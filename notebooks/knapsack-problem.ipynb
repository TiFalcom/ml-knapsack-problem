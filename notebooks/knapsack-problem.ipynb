{
 "cells": [
  {
   "cell_type": "markdown",
   "metadata": {},
   "source": [
    "# Problema da Mochila"
   ]
  },
  {
   "cell_type": "code",
   "execution_count": 13,
   "metadata": {},
   "outputs": [],
   "source": [
    "import random\n",
    "import numpy as np"
   ]
  },
  {
   "cell_type": "markdown",
   "metadata": {},
   "source": [
    "## Definição do Problema\n",
    "Você fará uma viagem a um acampamento durante o final de semana e precisa decidir quais itens levar. Como você só dispõe de uma mochila com capacidade para 15 kg, decidiu incluir somente os itens que maximizem a soma do valor em R$ dos itens, sem ultrapassar o limite de peso.  \n",
    "Resolva o problema utilizando algoritmo genético. Para isso descreva a forma de representação do problema em cromossomos, a função de ajuste (fitness) e os operadores genéticos (mutação, crossover e o mecanismo de seleção).  \n",
    "Assuma valores razoáveis para os hiperparâmetros comentando a sua escolha. Depois experimente alterá-los e reporte o que acontece"
   ]
  },
  {
   "cell_type": "code",
   "execution_count": 9,
   "metadata": {},
   "outputs": [],
   "source": [
    "# Criando a classe item para ficar empacotar as informações dos itens e acessar de forma padronizada\n",
    "class Item:\n",
    "    def __init__(self, name, weight, value):\n",
    "        self.name = name\n",
    "        self.weight = weight\n",
    "        self.value = value"
   ]
  },
  {
   "cell_type": "code",
   "execution_count": 8,
   "metadata": {},
   "outputs": [],
   "source": [
    "items = [\n",
    "    Item(\"Barraca\", 3.5, 150.00),\n",
    "    Item(\"Saco de dormir\", 2.0, 100.00),\n",
    "    Item(\"Isolante térmico\", 0.5, 50.00),\n",
    "    Item(\"Colchão inflável\", 1.0, 80.00),\n",
    "    Item(\"Lanterna\", 0.2, 30.00),\n",
    "    Item(\"Kit de primeiros socorros\", 0.5, 20.00),\n",
    "    Item(\"Repelente de insetos\", 0.1, 15.00),\n",
    "    Item(\"Protetor solar\", 0.2, 20.00),\n",
    "    Item(\"Canivete\", 0.1, 10.00),\n",
    "    Item(\"Mapa e bússola\", 0.3, 25.00),\n",
    "    Item(\"Garrafa de água\", 1.8, 15.00),\n",
    "    Item(\"Filtro de água\", 0.5, 50.00),\n",
    "    Item(\"Comida (ração liofilizada)\", 3.0, 50.00),\n",
    "    Item(\"Fogão de camping\", 1.5, 70.00),\n",
    "    Item(\"Botijão de gás\", 1.2, 30.00),\n",
    "    Item(\"Prato, talheres e caneca\", 0.5, 20.00),\n",
    "    Item(\"Roupas (conjunto)\", 1.5, 80.00),\n",
    "    Item(\"Calçados (botas)\", 2.0, 120.00),\n",
    "    Item(\"Toalha\", 0.5, 20.00),\n",
    "    Item(\"Kit de higiene pessoal\", 0.5, 30.00)\n",
    "]"
   ]
  },
  {
   "cell_type": "markdown",
   "metadata": {},
   "source": [
    "## Cromossomos"
   ]
  },
  {
   "cell_type": "markdown",
   "metadata": {},
   "source": [
    "Vamos criar o cromossomo como uma classe, onde poderemos definir seu tamanho, dessa forma o tamanho do cromossomo poderá ser utilizado como um hiperparametro.  \n",
    "Vamos também definir como método uma função fitness, podendo assim calcular qual seu fitness"
   ]
  },
  {
   "cell_type": "code",
   "execution_count": null,
   "metadata": {},
   "outputs": [],
   "source": [
    "class Chromosome:\n",
    "    def __init__(self, length, items, random_state=None):\n",
    "        self.length = length\n",
    "        self.items = items\n",
    "        self.random_state = random_state\n",
    "        random.seed(random_state)\n",
    "        self.genes = [random.randint(0,1) for _ in range(length)]\n",
    "\n",
    "    def get_metrics(self):\n",
    "        fitness = sum([self.items[index].value for index, gene in enumerate(self.genes) if gene == 1])\n",
    "\n",
    "        weight = sum([self.items[index].weight for index, gene in enumerate(self.genes) if gene == 1])\n",
    "\n",
    "        return fitness, weight\n"
   ]
  },
  {
   "cell_type": "code",
   "execution_count": 197,
   "metadata": {},
   "outputs": [
    {
     "name": "stdout",
     "output_type": "stream",
     "text": [
      "With random state:  [0, 1, 1, 1, 1, 1, 0, 1, 1, 1]\n",
      "With random state:  [0, 1, 1, 1, 1, 1, 0, 1, 1, 1, 0, 0, 0, 1, 0]\n",
      "Without random state:  [1, 1, 0, 1, 0, 1, 0, 0, 0, 0, 0, 0, 0, 0, 1]\n",
      "Without random state:  [0, 0, 0, 1, 1, 1, 0, 1, 0, 0, 0, 0, 1, 0, 0]\n"
     ]
    }
   ],
   "source": [
    "# Testando Criação dos Genes e verificando random_state para replicabilidade\n",
    "print('With random state: ', Chromosome(10, items, 777).genes)\n",
    "print('With random state: ', Chromosome(15, items, 777).genes)\n",
    "print('Without random state: ', Chromosome(15, items).genes)\n",
    "print('Without random state: ', Chromosome(15, items).genes)"
   ]
  },
  {
   "cell_type": "markdown",
   "metadata": {},
   "source": [
    "Agora vamos criar funções capazes de realizar as seguintes ações:  \n",
    "- Crossover\n",
    "- Mutação"
   ]
  },
  {
   "cell_type": "markdown",
   "metadata": {},
   "source": [
    "## Crossover\n",
    "Na função de crossover implementada estamos utilizando um sorteio com probabildiade de 50% para selecionar quais genes do cromossomo 1 serão trocados com o do cromossomo 2.  \n",
    "Após essa definição sorteamos a mesma quantidade de genes do cromossomo 2 para sofrerem o crossover"
   ]
  },
  {
   "cell_type": "code",
   "execution_count": 198,
   "metadata": {},
   "outputs": [],
   "source": [
    "random.shuffle([1,2,3,4])"
   ]
  },
  {
   "cell_type": "code",
   "execution_count": 199,
   "metadata": {},
   "outputs": [],
   "source": [
    "def crossover(chromosome_x, chromosome_y, random_state = None):\n",
    "    # TODO: Implementar taxa de crossover por gene???\n",
    "    random.seed(random_state)\n",
    "    genes_to_crossover_x = [i for i in range(chromosome_x.length) if random.randint(0,1) == 1]\n",
    "\n",
    "    genes_to_crossover_y = list(range(chromosome_y.length))\n",
    "    random.seed(random_state)\n",
    "    random.shuffle(genes_to_crossover_y)\n",
    "    genes_to_crossover_y = genes_to_crossover_y[:len(genes_to_crossover_x)]\n",
    "\n",
    "    chromosome_crossover = chromosome_x\n",
    "    for x, y in zip(genes_to_crossover_x, genes_to_crossover_y):\n",
    "        chromosome_crossover.genes[x] = chromosome_y.genes[y]\n",
    "\n",
    "    return chromosome_crossover"
   ]
  },
  {
   "cell_type": "code",
   "execution_count": 202,
   "metadata": {},
   "outputs": [],
   "source": [
    "x, y = Chromosome(10, items), Chromosome(10, items)"
   ]
  },
  {
   "cell_type": "code",
   "execution_count": 203,
   "metadata": {},
   "outputs": [
    {
     "data": {
      "text/plain": [
       "[1, 0, 0, 1, 1, 0, 1, 0, 1, 0]"
      ]
     },
     "execution_count": 203,
     "metadata": {},
     "output_type": "execute_result"
    }
   ],
   "source": [
    "crossover(x, y).genes"
   ]
  },
  {
   "cell_type": "markdown",
   "metadata": {},
   "source": [
    "## Mutação\n",
    "Para mutação estamos usando uma taxa fixa de 50% de chance de cada gene do cromossomo ser alterado"
   ]
  },
  {
   "cell_type": "code",
   "execution_count": 204,
   "metadata": {},
   "outputs": [],
   "source": [
    "def mutate(chromosome, random_state=None):\n",
    "    # TODO: Implementar taxa de mutação por gene? \n",
    "    # Nesse caso ta com uma taxa de mutação de 50% fixa por gene,\n",
    "    # fora a taxa que tem que exitir antes da chamada dessa função\n",
    "    random.seed(random_state)\n",
    "    chromosome.genes = [random.randint(0,1) for _ in chromosome.genes]\n",
    "\n",
    "    return chromosome"
   ]
  },
  {
   "cell_type": "code",
   "execution_count": 205,
   "metadata": {},
   "outputs": [
    {
     "data": {
      "text/plain": [
       "[0, 1, 0, 1, 0, 0, 1, 1, 0, 0]"
      ]
     },
     "execution_count": 205,
     "metadata": {},
     "output_type": "execute_result"
    }
   ],
   "source": [
    "mutate(x).genes"
   ]
  },
  {
   "cell_type": "markdown",
   "metadata": {},
   "source": [
    "# O que ainda precisamos fazer....\n",
    "Precisamos implementar uma forma de seleção de indivíduos entre gerações.\n",
    "- Deixo como ideia implementar uma função que recebe uam lista de cromossomos, uma taxa de pais que vão para próxima geração, uma probabilidade de mutação e uma probabilidade de crossover. Com essas informações ele realiza uma seleção por roleta dos pais e depois com esses mesmos pais faz mutação e crossover se a probabilidade deles forem atingidas. Tentem deixar o método de seleção variavel pelo tamanho da lista de cromossomos, dessa forma podemos hipertunar esse parametro."
   ]
  },
  {
   "cell_type": "code",
   "execution_count": null,
   "metadata": {},
   "outputs": [],
   "source": [
    "def select():\n",
    "    pass"
   ]
  },
  {
   "cell_type": "code",
   "execution_count": null,
   "metadata": {},
   "outputs": [],
   "source": [
    "def log_data():\n",
    "    pass"
   ]
  },
  {
   "cell_type": "markdown",
   "metadata": {},
   "source": [
    "- Precisamos também de um loop que itere nas populações, e vá salvando/printando os resultados, seria legal conseguirmos plotar um grafico de linha de fitness no eixo y e gerações no eixo x, mostrando o aumento do fitness conforme passamos de geração"
   ]
  },
  {
   "cell_type": "code",
   "execution_count": null,
   "metadata": {},
   "outputs": [],
   "source": [
    "def evolve():\n",
    "    pass"
   ]
  },
  {
   "cell_type": "markdown",
   "metadata": {},
   "source": [
    "Seria legal também ter alguma forma da gente trocar os hiperparametros para testar novas combinações e se elas tem muita diferença, exemplo:  \n",
    "- Teste 1 - cromossomos = 10, tamanho = 10, taxa de pais = 50%, prob. mutação = 50%, prob. crossover = 50%, gerações = 100\n",
    "- Teste 2 - cromossomos = 20, tamanho = 10, taxa de pais = 50%, prob. mutação = 50%, prob. crossover = 50%, gerações = 100\n",
    "- Teste 3 - cromossomos = 10, tamanho = 10, taxa de pais = 50%, prob. mutação = 50%, prob. crossover = 50%, gerações = 1000"
   ]
  },
  {
   "cell_type": "code",
   "execution_count": null,
   "metadata": {},
   "outputs": [],
   "source": [
    "def tune_hyperparams():\n",
    "    pass"
   ]
  }
 ],
 "metadata": {
  "kernelspec": {
   "display_name": "venv",
   "language": "python",
   "name": "python3"
  },
  "language_info": {
   "codemirror_mode": {
    "name": "ipython",
    "version": 3
   },
   "file_extension": ".py",
   "mimetype": "text/x-python",
   "name": "python",
   "nbconvert_exporter": "python",
   "pygments_lexer": "ipython3",
   "version": "3.12.4"
  }
 },
 "nbformat": 4,
 "nbformat_minor": 2
}
