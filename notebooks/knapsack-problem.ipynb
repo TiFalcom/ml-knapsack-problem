{
  "cells": [
    {
      "cell_type": "markdown",
      "metadata": {
        "id": "wyl7SZEWqEFZ"
      },
      "source": [
        "# Problema da Mochila"
      ]
    },
    {
      "cell_type": "code",
      "metadata": {
        "id": "BGwPm-OuqEFb"
      },
      "source": [
        "import random\n",
        "import copy\n",
        "import matplotlib.pyplot as plt\n",
        "import pandas as pd\n",
        "from typing import List\n",
        "import numpy as np"
      ],
      "outputs": [],
      "execution_count": 1
    },
    {
      "cell_type": "markdown",
      "metadata": {
        "id": "4fP4MXQQqEFd"
      },
      "source": [
        "## Definição do Problema\n",
        "Você fará uma viagem a um acampamento durante o final de semana e precisa decidir quais itens levar. Como você só dispõe de uma mochila com capacidade para 15 kg, decidiu incluir somente os itens que maximizem a soma do valor em R$ dos itens, sem ultrapassar o limite de peso.  \n",
        "Resolva o problema utilizando algoritmo genético. Para isso descreva a forma de representação do problema em cromossomos, a função de ajuste (fitness) e os operadores genéticos (mutação, crossover e o mecanismo de seleção).  \n",
        "Assuma valores razoáveis para os hiperparâmetros comentando a sua escolha. Depois experimente alterá-los e reporte o que acontece  \n",
        "\n",
        "O problema da mochila é um problema clássico de programação dinâmica, e para o nosso caso em específico ao implementar um algoritmo de programação dinâmica temos que o valor máximo possível de ser levado é de 870.  "
      ]
    },
    {
      "cell_type": "code",
      "metadata": {
        "id": "dqEDZQk_qEFe"
      },
      "source": [
        "# Criando a classe item para ficar empacotar as informações dos itens e acessar de forma padronizada\n",
        "class Item:\n",
        "    def __init__(self, name, weight, value):\n",
        "        self.name = name\n",
        "        self.weight = weight\n",
        "        self.value = value"
      ],
      "outputs": [],
      "execution_count": null
    },
    {
      "cell_type": "code",
      "metadata": {
        "id": "Ycem7NnjqEFf"
      },
      "source": [
        "items = [\n",
        "    Item(\"Barraca\", 3.5, 150.00),\n",
        "    Item(\"Saco de dormir\", 2.0, 100.00),\n",
        "    Item(\"Isolante térmico\", 0.5, 50.00),\n",
        "    Item(\"Colchão inflável\", 1.0, 80.00),\n",
        "    Item(\"Lanterna\", 0.2, 30.00),\n",
        "    Item(\"Kit de primeiros socorros\", 0.5, 20.00),\n",
        "    Item(\"Repelente de insetos\", 0.1, 15.00),\n",
        "    Item(\"Protetor solar\", 0.2, 20.00),\n",
        "    Item(\"Canivete\", 0.1, 10.00),\n",
        "    Item(\"Mapa e bússola\", 0.3, 25.00),\n",
        "    Item(\"Garrafa de água\", 1.8, 15.00),\n",
        "    Item(\"Filtro de água\", 0.5, 50.00),\n",
        "    Item(\"Comida (ração liofilizada)\", 3.0, 50.00),\n",
        "    Item(\"Fogão de camping\", 1.5, 70.00),\n",
        "    Item(\"Botijão de gás\", 1.2, 30.00),\n",
        "    Item(\"Prato, talheres e caneca\", 0.5, 20.00),\n",
        "    Item(\"Roupas (conjunto)\", 1.5, 80.00),\n",
        "    Item(\"Calçados (botas)\", 2.0, 120.00),\n",
        "    Item(\"Toalha\", 0.5, 20.00),\n",
        "    Item(\"Kit de higiene pessoal\", 0.5, 30.00)\n",
        "]"
      ],
      "outputs": [],
      "execution_count": null
    },
    {
      "cell_type": "markdown",
      "metadata": {
        "id": "cUcaZ7R6qEFg"
      },
      "source": [
        "# Resolução por Programação Dinâmica"
      ]
    },
    {
      "cell_type": "code",
      "metadata": {
        "id": "HYaLDN33qEFg"
      },
      "source": [
        "# Código obtido com ajuda do Chat GPT, como não é o foco do projeto, utilizamos nesse caso para avaliar se a solução\n",
        "# estava indo no caminho certo.\n",
        "def knapsack_dynamic(values, weights, capacity):\n",
        "    n = len(values)\n",
        "    dp = [0] * (capacity + 1)\n",
        "\n",
        "    for i in range(n):\n",
        "        for w in range(capacity, weights[i] - 1, -1):\n",
        "            dp[w] = max(dp[w], dp[w - weights[i]] + values[i])\n",
        "\n",
        "    return dp[capacity]\n",
        "\n",
        "\n",
        "values = [item.value for item in items]\n",
        "weights = [int(item.weight*10) for item in items]\n",
        "capacity = 150\n",
        "print(knapsack_dynamic(values, weights, capacity))"
      ],
      "outputs": [],
      "execution_count": null
    },
    {
      "cell_type": "markdown",
      "metadata": {
        "id": "w34WfXN9qEFh"
      },
      "source": [
        "## Cromossomos"
      ]
    },
    {
      "cell_type": "markdown",
      "metadata": {
        "id": "d98hGHJDqEFh"
      },
      "source": [
        "Vamos criar o cromossomo como uma classe, onde poderemos definir seu tamanho, dessa forma o tamanho do cromossomo poderá ser utilizado como um hiperparametro.  \n",
        "Vamos também definir como método uma função fitness, podendo assim calcular qual seu fitness"
      ]
    },
    {
      "cell_type": "code",
      "metadata": {
        "id": "olGEc_SLqEFi"
      },
      "source": [
        "class Chromosome:\n",
        "    def __init__(self, items, max_weight, warm_start=True, random_state=None):\n",
        "        self.length = len(items)\n",
        "        self.items = items\n",
        "        self.max_weight = max_weight\n",
        "        self.random_state = random_state\n",
        "        self._init_genes(warm_start=warm_start)\n",
        "\n",
        "    def _init_genes(self, warm_start):\n",
        "        if warm_start:\n",
        "            random.seed(self.random_state)\n",
        "            self.genes = [random.randint(0,1) for _ in range(self.length)]\n",
        "        else:\n",
        "            self.genes = [0 for _ in range(self.length)]\n",
        "\n",
        "    def get_metrics(self):\n",
        "\n",
        "        self.weight = sum([self.items[index].weight for index, gene in enumerate(self.genes) if gene == 1])\n",
        "\n",
        "        if self.weight <= self.max_weight:\n",
        "            self.fitness = sum([self.items[index].value for index, gene in enumerate(self.genes) if gene == 1])\n",
        "        else:\n",
        "            self.fitness = 0\n",
        "\n",
        "        return self.fitness, self.weight\n",
        "\n",
        "    # Os métodos abaixo são implementados para facilitar a comparação entre diferentes cromossomos\n",
        "    def __eq__(self, other):\n",
        "        if isinstance(other, Chromosome):\n",
        "            return self.fitness == other.fitness\n",
        "        return NotImplemented\n",
        "\n",
        "    def __lt__(self, other):\n",
        "        if isinstance(other, Chromosome):\n",
        "            return self.fitness < other.fitness\n",
        "        return NotImplemented\n",
        "\n",
        "    def __le__(self, other):\n",
        "        if isinstance(other, Chromosome):\n",
        "            return self.fitness <= other.fitness\n",
        "        return NotImplemented\n",
        "\n",
        "    def __gt__(self, other):\n",
        "        if isinstance(other, Chromosome):\n",
        "            return self.fitness > other.fitness\n",
        "        return NotImplemented\n",
        "\n",
        "    def __ge__(self, other):\n",
        "        if isinstance(other, Chromosome):\n",
        "            return self.fitness >= other.fitness\n",
        "        return NotImplemented\n"
      ],
      "outputs": [],
      "execution_count": null
    },
    {
      "cell_type": "code",
      "metadata": {
        "id": "4zS26XzsqEFj"
      },
      "source": [
        "# Testando Criação dos Genes e verificando random_state para replicabilidade\n",
        "print('With random state: ', Chromosome(items, 15, random_state=777).genes)\n",
        "print('With random state: ', Chromosome(items, 15, random_state=777).genes)\n",
        "print('Without random state: ', Chromosome(items, 15).genes)\n",
        "print('Without random state: ', Chromosome(items, 15).genes)\n",
        "print('Without random state: ', Chromosome(items, 15, warm_start=False).genes)\n",
        "print('Without random state: ', Chromosome(items, 15, warm_start=False).genes)"
      ],
      "outputs": [],
      "execution_count": null
    },
    {
      "cell_type": "markdown",
      "metadata": {
        "id": "M9hw1rnlqEFj"
      },
      "source": [
        "## Operadores\n",
        "Agora vamos criar funções capazes de realizar as seguintes ações:  \n",
        "- Crossover\n",
        "- Mutação"
      ]
    },
    {
      "cell_type": "markdown",
      "metadata": {
        "id": "KBYdOPjzqEFj"
      },
      "source": [
        "### Crossover\n",
        "Na função de crossover implementada estamos utilizando um sorteio com probabildiade de 50% para selecionar quais genes do cromossomo 1 serão trocados com o do cromossomo 2.  \n",
        "Após essa definição sorteamos a mesma quantidade de genes do cromossomo 2 para sofrerem o crossover"
      ]
    },
    {
      "cell_type": "code",
      "metadata": {
        "id": "qfAHVVIhqEFk"
      },
      "source": [
        "def crossover(chromosome_x, chromosome_y, crossover_prob,random_state = None):\n",
        "    random.seed(random_state)\n",
        "    genes_to_crossover_x = [i for i in range(chromosome_x.length) if random.uniform(0,1) <= crossover_prob]\n",
        "\n",
        "    genes_to_crossover_y = list(range(chromosome_y.length))\n",
        "    random.seed(random_state)\n",
        "    random.shuffle(genes_to_crossover_y)\n",
        "    genes_to_crossover_y = genes_to_crossover_y[:len(genes_to_crossover_x)]\n",
        "\n",
        "    chromosome_crossover = copy.deepcopy(chromosome_x)\n",
        "    for x, y in zip(genes_to_crossover_x, genes_to_crossover_y):\n",
        "        chromosome_crossover.genes[x] = chromosome_y.genes[y]\n",
        "\n",
        "    return chromosome_crossover"
      ],
      "outputs": [],
      "execution_count": null
    },
    {
      "cell_type": "code",
      "metadata": {
        "id": "VEFLlnFFqEFl"
      },
      "source": [
        "x, y = Chromosome(items, 15), Chromosome(items, 15)"
      ],
      "outputs": [],
      "execution_count": null
    },
    {
      "cell_type": "code",
      "metadata": {
        "id": "jCFdYVzVqEFl"
      },
      "source": [
        "x.genes, y.genes"
      ],
      "outputs": [],
      "execution_count": null
    },
    {
      "cell_type": "code",
      "metadata": {
        "id": "oIRY0jszqEFm"
      },
      "source": [
        "crossover(x, y, 0.7).genes"
      ],
      "outputs": [],
      "execution_count": null
    },
    {
      "cell_type": "markdown",
      "metadata": {
        "id": "5A-RzN0tqEFm"
      },
      "source": [
        "### Mutação\n",
        "Para mutação estamos usando uma taxa fixa de 50% de chance de cada gene do cromossomo ser alterado"
      ]
    },
    {
      "cell_type": "code",
      "metadata": {
        "id": "UkShq3v3qEFn"
      },
      "source": [
        "def mutate(chromosome, mutation_prob, random_state=None):\n",
        "    random.seed(random_state)\n",
        "    mutated_chromosome = copy.deepcopy(chromosome)\n",
        "    mutated_chromosome.genes = [(gene+1)%2 if random.uniform(0,1) <= mutation_prob else gene for gene in chromosome.genes]\n",
        "\n",
        "    return mutated_chromosome"
      ],
      "outputs": [],
      "execution_count": null
    },
    {
      "cell_type": "code",
      "metadata": {
        "id": "JTYOCOrAqEFn"
      },
      "source": [
        "x.genes"
      ],
      "outputs": [],
      "execution_count": null
    },
    {
      "cell_type": "code",
      "metadata": {
        "id": "RJ_tSvGgqEFn"
      },
      "source": [
        "mutate(x, 0.5, 777).genes"
      ],
      "outputs": [],
      "execution_count": null
    },
    {
      "cell_type": "markdown",
      "metadata": {
        "id": "TwsoKrimqEFo"
      },
      "source": [
        "### Seleção\n",
        "Vamos também criar uma forma para seleção dos cromossomos entre gerações, para isso vamos utilizar uma seleção por roleta dos pais e depois realizar crossover para criação de novos cromossomos filhos, assim como a mutação desses novos cromossomos filhos.  \n",
        "Para esse método de seleção deixaremos algumas informações parametrizaveis para que possam ser alteradas e hipertunadas, como:  \n",
        "- Quantidade de pais na próxima geração  \n",
        "- Probabilidade de mutação de um gene  \n",
        "- Probabilidade de Crossover de um gene"
      ]
    },
    {
      "cell_type": "markdown",
      "metadata": {
        "id": "9uySFvwYqEFo"
      },
      "source": [
        "#### Roleta\n",
        "Estamos realizando uma seleção dos pais por roleta, utilizando seu fitness como probabilidade para serem selecionados"
      ]
    },
    {
      "cell_type": "code",
      "metadata": {
        "id": "rScDsefjqEFo"
      },
      "source": [
        "def roulette_selection(chromosomes, fathers_next_gen, random_state=None):\n",
        "    fitness_prob = [chromosome.get_metrics()[0] for chromosome in chromosomes]\n",
        "\n",
        "    # Somando + 1 por conta de divisões por 0 devido a warm_start=False\n",
        "    fitness_prob = [(fitness+1)/(sum(fitness_prob)+1) for fitness in fitness_prob]\n",
        "\n",
        "    random.seed(random_state)\n",
        "    fitness_prob = sorted([(fitness*random.uniform(0,1), index) for index, fitness in enumerate(fitness_prob)], reverse=True)\n",
        "    fathers_chromosomes = [chromosomes[fitness_prob[index][1]] for index in range(fathers_next_gen)]\n",
        "\n",
        "    return fathers_chromosomes"
      ],
      "outputs": [],
      "execution_count": null
    },
    {
      "cell_type": "code",
      "metadata": {
        "id": "0Q66irejqEFo"
      },
      "source": [
        "roulette_selection([x, y, x, y, x, y, y, y, y], 5, 777)"
      ],
      "outputs": [],
      "execution_count": null
    },
    {
      "cell_type": "code",
      "metadata": {
        "id": "kr6RehycqEFo"
      },
      "source": [
        "def select(chromosomes, fathers_next_gen, mutation_prob, crossover_prob, random_state=None):\n",
        "\n",
        "    fathers_chromosomes = roulette_selection(chromosomes, fathers_next_gen, random_state)\n",
        "    qty_childs = len(chromosomes) - len(fathers_chromosomes)\n",
        "\n",
        "    # crossover\n",
        "    childs_chromosomes = []\n",
        "    for _ in range(qty_childs):\n",
        "        random.seed(random_state)\n",
        "        chromosome_x = chromosomes[random.randint(0,len(chromosomes)-1)]\n",
        "        random.seed(random_state)\n",
        "        chromosome_y = chromosomes[random.randint(0,len(chromosomes)-1)]\n",
        "        childs_chromosomes.append(crossover(chromosome_x, chromosome_y, crossover_prob, random_state))\n",
        "\n",
        "    # child mutation\n",
        "    for index, child_chromosome in enumerate(childs_chromosomes):\n",
        "        childs_chromosomes[index] = mutate(child_chromosome, mutation_prob, random_state)\n",
        "\n",
        "    return fathers_chromosomes + childs_chromosomes"
      ],
      "outputs": [],
      "execution_count": null
    },
    {
      "cell_type": "code",
      "metadata": {
        "id": "tdXJzFGTqEFp"
      },
      "source": [
        "chromosomes = [\n",
        "    Chromosome(items, 15),\n",
        "    Chromosome(items, 15),\n",
        "    Chromosome(items, 15),\n",
        "    Chromosome(items, 15),\n",
        "    Chromosome(items, 15),\n",
        "    Chromosome(items, 15),\n",
        "    Chromosome(items, 15),\n",
        "    Chromosome(items, 15),\n",
        "    Chromosome(items, 15),\n",
        "    Chromosome(items, 15)\n",
        "]"
      ],
      "outputs": [],
      "execution_count": null
    },
    {
      "cell_type": "code",
      "metadata": {
        "id": "Lv4sYpi6qEFp"
      },
      "source": [
        "# 10 cromossomos, elitismo com 5 pais por roleta, 0.1% de probabilidade de mutação, 0.6% de probabilidade de crossover\n",
        "select(chromosomes, 5, 0.1, 0.6, 777)"
      ],
      "outputs": [],
      "execution_count": null
    },
    {
      "cell_type": "markdown",
      "metadata": {
        "id": "__6iVX9nqEFp"
      },
      "source": [
        "## Log Data\n",
        "Também será necessário salvar os dados, para que possamos observar a evolução da solução ao longo das gerações.  "
      ]
    },
    {
      "cell_type": "code",
      "metadata": {
        "id": "kF6ANWcfqEFp"
      },
      "source": [
        "def log_data(epoch, chromosomes, fathers_next_gen, mutation_prob, crossover_prob, warm_start, random_state):\n",
        "    for chromosome in chromosomes:\n",
        "        chromosome.get_metrics()\n",
        "\n",
        "    best_chromosome = max(chromosomes)\n",
        "    avg_fitness = np.mean([chromosome.fitness for chromosome in chromosomes])\n",
        "    print_log = f'''Epoch: {epoch} - Fitness: {best_chromosome.fitness} - Chromossome: {best_chromosome.genes}'''\n",
        "    data_log = [epoch, best_chromosome.fitness, avg_fitness, best_chromosome.genes, len(chromosomes), fathers_next_gen, mutation_prob, crossover_prob, warm_start, random_state]\n",
        "\n",
        "    print(print_log)\n",
        "    return data_log"
      ],
      "outputs": [],
      "execution_count": null
    },
    {
      "cell_type": "markdown",
      "metadata": {
        "id": "88oDjLjLqEFq"
      },
      "source": [
        "## Evolução\n",
        "Para evoluir a solução, vamos precisar de uma estrutura de repetição."
      ]
    },
    {
      "cell_type": "code",
      "metadata": {
        "id": "vz5dY_zFqEFq"
      },
      "source": [
        "def evolve(epochs, chromosomes_len, fathers_next_gen, mutation_prob, crossover_prob, warm_start=False, random_state=None):\n",
        "\n",
        "    random.seed(random_state)\n",
        "    chromosomes = [\n",
        "        Chromosome(items, 15,\n",
        "                   warm_start=warm_start,\n",
        "                   random_state=random.randint(0, int(1e9))) for _ in range(chromosomes_len)\n",
        "    ]\n",
        "\n",
        "    data_log = []\n",
        "    for epoch in range(epochs):\n",
        "        data_log.append(log_data(epoch, chromosomes, fathers_next_gen, mutation_prob, crossover_prob, warm_start, random_state))\n",
        "        chromosomes = select(chromosomes, fathers_next_gen, mutation_prob, crossover_prob, random_state)\n",
        "\n",
        "    best_chromosome = max(chromosomes, key=lambda x: x.get_metrics()[0])\n",
        "    return best_chromosome, data_log\n"
      ],
      "outputs": [],
      "execution_count": null
    },
    {
      "metadata": {
        "id": "o17F_Op2qEFq"
      },
      "cell_type": "code",
      "source": [
        "# Exibir o melhor conteúdo da mochila\n",
        "def print_best_knapsack(chromosome):\n",
        "    print(\"\\nMelhor solução encontrada:\")\n",
        "    total_weight = 0\n",
        "    total_value = 0\n",
        "    selected_items = []\n",
        "\n",
        "    for gene, item in zip(chromosome.genes, chromosome.items):\n",
        "        if gene == 1:\n",
        "            selected_items.append((item.name, item.weight, item.value))\n",
        "            total_weight += item.weight\n",
        "            total_value += item.value\n",
        "\n",
        "    for name, weight, value in selected_items:\n",
        "        print(f\"Item: {name} | Peso: {weight:.2f}kg | Valor: R${value:.2f}\")\n",
        "\n",
        "    print(f\"\\nPeso total: {total_weight:.2f}kg\")\n",
        "    print(f\"Valor total: R${total_value:.2f}\")"
      ],
      "outputs": [],
      "execution_count": null
    },
    {
      "cell_type": "code",
      "metadata": {
        "id": "53XxApfJqEFr"
      },
      "source": [
        "best_chromosome, data_log = evolve(1500, 200, 180, 0.01, 0.01)"
      ],
      "outputs": [],
      "execution_count": null
    },
    {
      "metadata": {
        "id": "oX1dUJgUqEFr"
      },
      "cell_type": "code",
      "source": [
        "print_best_knapsack(best_chromosome)"
      ],
      "outputs": [],
      "execution_count": null
    },
    {
      "cell_type": "code",
      "metadata": {
        "id": "zig6EO4AqEFr"
      },
      "source": [
        "# DataFrame com os dados coletados\n",
        "columns = [\"Epoch\", \"Best_Fitness\", \"Avg_Fitness\", \"Best_Chromosome\", \"Population_Size\", \"Fathers_Next_Gen\", \"Mutation_Prob\", \"Crossover_Prob\", \"Warm_Start\", \"Random_State\"]\n",
        "df = pd.DataFrame(data_log, columns=columns)"
      ],
      "outputs": [],
      "execution_count": null
    },
    {
      "cell_type": "code",
      "metadata": {
        "id": "OTdIo1M6qEFr"
      },
      "source": [
        "plt.figure(figsize=(10, 6))\n",
        "plt.plot(df[\"Epoch\"], df[\"Best_Fitness\"], label=\"Best Fitness\", color=\"blue\")\n",
        "plt.plot(df[\"Epoch\"], df[\"Avg_Fitness\"], label=\"Avg Fitness\", color=\"green\")\n",
        "plt.axhline(y=870, color=\"red\", linestyle=\"--\", linewidth=2, label=\"Optimal (870)\")\n",
        "plt.xlabel(\"Epoch\")\n",
        "plt.ylabel(\"Fitness\")\n",
        "plt.title(\"Best Fitness Over Epochs\")\n",
        "plt.legend()\n",
        "plt.grid()\n",
        "plt.show()\n"
      ],
      "outputs": [],
      "execution_count": null
    },
    {
      "cell_type": "markdown",
      "metadata": {
        "id": "jIlovO6fqEFr"
      },
      "source": [
        "Utilizando os métodos descritos acima, fomos capazes de executar 1 geração do algoritmo com os seguintes hiperparametros:  \n",
        "- **Quantidade de Épocas/Iterações**: 1000\n",
        "- **Quantidade de Cromossomos**: 200\n",
        "- **Quantidade de Pais entre Épocas/Iterações**: 180\n",
        "- **Probabilidade de Mutação**: 1%\n",
        "- **Probabilidade de Crossover**: 1%  \n",
        "- **Warm Start**: False  \n",
        "Com isso obtivemos o gráfico acima, mostrando a evolução do fitness do melhor cromossomo e a média dos cromossomos por época.  \n",
        "É possível notar a evolução ao longo das épocas e como o método de seleção foi capaz de evoluir os cromossomos até o ponto ótimo (870), mas também é possível notar a aleatoriedade no processo evolutivo, mostrando que não é aleatório e não linear, mas também mostrando que é capaz de convergir para soluções ótimas.  "
      ]
    },
    {
      "cell_type": "markdown",
      "metadata": {
        "id": "eZWPiFMnqEFs"
      },
      "source": [
        "# Trocando os hiperparametros para testar novas combinações\n",
        "Com um método capaz de testar diferentes hiperparametros, conseguimos comparar a evolução de diferentes experimentos, podendo testar quantidade de cromossomos, quantidade de pais, taxa de mutação, taxa de crossover e início rápido diferentes.  "
      ]
    },
    {
      "cell_type": "code",
      "metadata": {
        "id": "k0n5XMx-qEFz"
      },
      "source": [
        "def tune_hyperparams(test_configs):\n",
        "    experiment_results = []\n",
        "\n",
        "    for config in test_configs:\n",
        "        print(f\"Rodando experimento com a configuração: {config}\")\n",
        "\n",
        "        best_chromosome, data_log = evolve(\n",
        "            epochs=config[\"geracoes\"],\n",
        "            chromosomes_len=config[\"cromossomos\"],\n",
        "            fathers_next_gen=int(config[\"quantidade_pais\"]),\n",
        "            mutation_prob=config[\"prob_mutacao\"],\n",
        "            crossover_prob=config[\"prob_crossover\"],\n",
        "            warm_start=config['inicio_rapido'],\n",
        "            random_state=config[\"random_state\"]\n",
        "        )\n",
        "\n",
        "        experiment_results.append({\n",
        "            \"config\": config,\n",
        "            \"data_log\": data_log,\n",
        "            \"best_fitness\" : max([row[1] for row in data_log]),\n",
        "            \"best_chromosome\": best_chromosome\n",
        "        })\n",
        "\n",
        "    # Ordenar os resultados pelos melhores, indipendente se esteve na última geração ou não.\n",
        "    sorted_results = sorted(experiment_results, key=lambda x: x[\"best_fitness\"], reverse=True)\n",
        "\n",
        "\n",
        "    for result in sorted_results:\n",
        "        print(f\"Configuração: {result['config']} | Melhor Fitness: {result['best_fitness']}\")\n",
        "\n",
        "    return sorted_results\n",
        "\n",
        "test_configs = [\n",
        "    {\"cromossomos\": 200, \"quantidade_pais\": 180, \"prob_mutacao\": 0.01, \"prob_crossover\": 0.01, \"geracoes\": 1000, \"inicio_rapido\" : False, \"random_state\": None},\n",
        "    {\"cromossomos\": 200, \"quantidade_pais\": 180, \"prob_mutacao\": 0.01, \"prob_crossover\": 0.01, \"geracoes\": 1000, \"inicio_rapido\" : True, \"random_state\": None},\n",
        "    {\"cromossomos\": 200, \"quantidade_pais\": 180, \"prob_mutacao\": 0.05, \"prob_crossover\": 0.0, \"geracoes\": 1000, \"inicio_rapido\" : True, \"random_state\": None},\n",
        "    {\"cromossomos\": 10, \"quantidade_pais\": 8, \"prob_mutacao\": 0.01, \"prob_crossover\": 0.01, \"geracoes\": 100, \"inicio_rapido\" : True, \"random_state\": None},\n",
        "    {\"cromossomos\": 50, \"quantidade_pais\": 25, \"prob_mutacao\": 0.5, \"prob_crossover\": 0.5, \"geracoes\": 1000, \"inicio_rapido\" : False, \"random_state\": None},\n",
        "    {\"cromossomos\": 80, \"quantidade_pais\": 10, \"prob_mutacao\": 0.1, \"prob_crossover\": 0.5, \"geracoes\": 350, \"inicio_rapido\" : True, \"random_state\": None}\n",
        "]\n",
        "\n",
        "\n",
        "experiment_results = tune_hyperparams(test_configs)\n"
      ],
      "outputs": [],
      "execution_count": null
    },
    {
      "metadata": {
        "id": "7tekpWmMqEFz"
      },
      "cell_type": "code",
      "source": [
        "for result in experiment_results:\n",
        "    print(f\"Quantidade de cromossomos: {result['config']['cromossomos']}\")\n",
        "    print(f\"Quantidade de pais: {result['config']['quantidade_pais']}\")\n",
        "    print(f\"Probabilidade de mutação: {(result['config']['prob_mutacao']) * 100}%\")\n",
        "    print(f\"Probabilidade de crossover: {result['config']['prob_crossover'] * 100}%\")\n",
        "    print(f\"Quantidade de gerações: {result['config']['geracoes']}\")\n",
        "    print(f\"Início rápido: {result['config']['inicio_rapido']}\")\n",
        "    print(f\"Random state: {result['config']['random_state']}\")\n",
        "    print(f\"Melhor Fitness: {result['best_fitness']}\")\n",
        "\n",
        "    print_best_knapsack(result['best_chromosome'])\n",
        "\n",
        "    print(\"\\n----------------------------------------------------------------------------------\\n\")"
      ],
      "outputs": [],
      "execution_count": null
    },
    {
      "metadata": {
        "id": "SLsvWdIHqEF0"
      },
      "cell_type": "code",
      "source": [
        "fig, axes = plt.subplots(2, 3, figsize=(10, 8))\n",
        "\n",
        "experiment_names = ['1º', '2º', '3º', '4º', '5º', '6º']\n",
        "\n",
        "for ax, experiment, experiment_name in zip(axes.flatten(), experiment_results, experiment_names):\n",
        "    exp_data = experiment['data_log']\n",
        "\n",
        "    print(f\"{experiment_name} config: {experiment['config']}\")\n",
        "\n",
        "    # DataFrame com os dados coletados\n",
        "    columns = [\"Epoch\", \"Best_Fitness\", \"Avg_Fitness\", \"Best_Chromosome\", \"Population_Size\", \"Fathers_Next_Gen\", \"Mutation_Prob\", \"Crossover_Prob\", \"Warm_Start\", \"Random_State\"]\n",
        "    df = pd.DataFrame(exp_data, columns=columns)\n",
        "\n",
        "    ax.plot(df[\"Epoch\"], df[\"Best_Fitness\"], label=\"Best Fitness\", color=\"blue\")\n",
        "    ax.plot(df[\"Epoch\"], df[\"Avg_Fitness\"], label=\"Avg Fitness\", color=\"green\")\n",
        "    ax.axhline(y=870, color=\"red\", linestyle=\"--\", linewidth=2, label=\"Optimal (870)\")\n",
        "    ax.set_xlabel(\"Epoch\")\n",
        "    ax.set_ylabel(\"Fitness\")\n",
        "    ax.set_title(experiment_name)\n",
        "    ax.set_ylim(0, 900)\n",
        "    ax.legend()\n",
        "    ax.grid()\n",
        "\n",
        "plt.tight_layout()\n",
        "plt.show()\n"
      ],
      "outputs": [],
      "execution_count": null
    }
  ],
  "metadata": {
    "kernelspec": {
      "display_name": "venv",
      "language": "python",
      "name": "python3"
    },
    "language_info": {
      "codemirror_mode": {
        "name": "ipython",
        "version": 3
      },
      "file_extension": ".py",
      "mimetype": "text/x-python",
      "name": "python",
      "nbconvert_exporter": "python",
      "pygments_lexer": "ipython3",
      "version": "3.12.4"
    },
    "colab": {
      "provenance": []
    }
  },
  "nbformat": 4,
  "nbformat_minor": 0
}